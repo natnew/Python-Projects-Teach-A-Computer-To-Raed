{
  "nbformat": 4,
  "nbformat_minor": 0,
  "metadata": {
    "colab": {
      "name": "Copy of number_recognition_starter",
      "provenance": [],
      "collapsed_sections": [],
      "include_colab_link": true
    },
    "kernelspec": {
      "name": "python3",
      "display_name": "Python 3"
    }
  },
  "cells": [
    {
      "cell_type": "markdown",
      "metadata": {
        "id": "view-in-github",
        "colab_type": "text"
      },
      "source": [
        "<a href=\"https://colab.research.google.com/github/natnew/Python-Projects-Teach-A-Computer-To-Raed/blob/main/number_recognition_starter.ipynb\" target=\"_parent\"><img src=\"https://colab.research.google.com/assets/colab-badge.svg\" alt=\"Open In Colab\"/></a>"
      ]
    },
    {
      "cell_type": "code",
      "metadata": {
        "id": "D7KfGmRMwwFO"
      },
      "source": [
        "import tensorflow as tf\n",
        "import numpy as np\n",
        "import matplotlib.pyplot as plt\n",
        "import os"
      ],
      "execution_count": null,
      "outputs": []
    },
    {
      "cell_type": "code",
      "metadata": {
        "id": "YDg7uzPLALRM"
      },
      "source": [
        "def plot_accuracy_and_loss(history):\n",
        "  acc = history.history['accuracy']\n",
        "  val_acc = history.history['val_accuracy']\n",
        "\n",
        "  loss = history.history['loss']\n",
        "  val_loss = history.history['val_loss']\n",
        "\n",
        "  plt.figure(figsize=(8, 8))\n",
        "  plt.subplot(2, 1, 1)\n",
        "  plt.plot(acc, label='Training Accuracy')\n",
        "  plt.plot(val_acc, label='Validation Accuracy')\n",
        "  plt.legend(loc='lower right')\n",
        "  plt.ylabel('Accuracy')\n",
        "  plt.ylim([min(plt.ylim()),1])\n",
        "  plt.title('Training and Validation Accuracy')\n",
        "\n",
        "  plt.subplot(2, 1, 2)\n",
        "  plt.plot(loss, label='Training Loss')\n",
        "  plt.plot(val_loss, label='Validation Loss')\n",
        "  plt.legend(loc='upper right')\n",
        "  plt.ylabel('Cross Entropy Loss')\n",
        "  plt.ylim([0,1.0])\n",
        "  plt.title('Training and Validation Loss')\n",
        "  plt.xlabel('epoch')\n",
        "  plt.show()"
      ],
      "execution_count": null,
      "outputs": []
    },
    {
      "cell_type": "code",
      "metadata": {
        "id": "7CIlGABA8Z2M"
      },
      "source": [
        "IMAGE_SIZE = 28\n",
        "training_labels = None\n",
        "\n",
        "def get_image_from_url(image_url):\n",
        "  # If the temporary test_image.jpg file already exists, \n",
        "  # delete it so a new one can be made.\n",
        "  if os.path.exists('/root/.keras/datasets/test_image.jpg'):\n",
        "    os.remove('/root/.keras/datasets/test_image.jpg')\n",
        "\n",
        "  image_path = tf.keras.utils.get_file('test_image.jpg', origin=image_url)\n",
        "  return image_path\n",
        "\n",
        "def predict_image(image_url, labels = training_labels):\n",
        "  image_path = get_image_from_url(image_url)\n",
        "  \n",
        "  image = tf.keras.preprocessing.image.load_img(image_path, target_size=(IMAGE_SIZE, IMAGE_SIZE)).convert('L')\n",
        "\n",
        "  plt.figure()\n",
        "  plt.imshow(image, cmap='gray')\n",
        "\n",
        "  image = tf.keras.preprocessing.image.img_to_array(image)\n",
        "  image = np.expand_dims(image, axis=0)\n",
        "  prediction_result = model.predict(image, batch_size=1)\n",
        "  print('Your model predicts this number is {}'.format(prediction_result.argmax()))"
      ],
      "execution_count": null,
      "outputs": []
    },
    {
      "cell_type": "markdown",
      "metadata": {
        "id": "qfgXlePmih5U"
      },
      "source": [
        "Load the MNIST data you'll use to train your model."
      ]
    },
    {
      "cell_type": "code",
      "metadata": {
        "id": "Fi3eKXnwxGk1"
      },
      "source": [
        "numbers = tf.keras.datasets.mnist"
      ],
      "execution_count": null,
      "outputs": []
    },
    {
      "cell_type": "markdown",
      "metadata": {
        "id": "JVucaxhQiiYY"
      },
      "source": [
        "Explore your data and print out a number."
      ]
    },
    {
      "cell_type": "code",
      "metadata": {
        "id": "yrkeZF9_1zCw",
        "colab": {
          "base_uri": "https://localhost:8080/"
        },
        "outputId": "f049f119-7953-4001-c457-c538b026fd30"
      },
      "source": [
        "(training_images, training_labels), (validation_images, validation_labels) = numbers.load_data()"
      ],
      "execution_count": null,
      "outputs": [
        {
          "output_type": "stream",
          "name": "stdout",
          "text": [
            "Downloading data from https://storage.googleapis.com/tensorflow/tf-keras-datasets/mnist.npz\n",
            "11493376/11490434 [==============================] - 0s 0us/step\n",
            "11501568/11490434 [==============================] - 0s 0us/step\n"
          ]
        }
      ]
    },
    {
      "cell_type": "markdown",
      "metadata": {
        "id": "Lg5z4DQU4cPi"
      },
      "source": [
        "Divide your images so all their colour values are between 0 and 1."
      ]
    },
    {
      "cell_type": "code",
      "metadata": {
        "id": "lqiA0Y1j4cfR",
        "colab": {
          "base_uri": "https://localhost:8080/",
          "height": 283
        },
        "outputId": "ea953bac-297f-492f-b487-72a9349f1ef4"
      },
      "source": [
        "plt.imshow(training_images[0], cmap='gray')\n",
        "print(training_labels[0])"
      ],
      "execution_count": null,
      "outputs": [
        {
          "output_type": "stream",
          "name": "stdout",
          "text": [
            "5\n"
          ]
        },
        {
          "output_type": "display_data",
          "data": {
            "image/png": "[encoded data removed]",
            "text/plain": [
              "<Figure size 432x288 with 1 Axes>"
            ]
          },
          "metadata": {
            "needs_background": "light"
          }
        }
      ]
    },
    {
      "cell_type": "markdown",
      "metadata": {
        "id": "4G77KaezijCl"
      },
      "source": [
        "Build your model out of layers."
      ]
    },
    {
      "cell_type": "code",
      "metadata": {
        "id": "6rozmU_q2G0E",
        "colab": {
          "base_uri": "https://localhost:8080/"
        },
        "outputId": "d5e969cf-2efa-4cb7-ae5f-bbe588db39e1"
      },
      "source": [
        "print(training_images[0])"
      ],
      "execution_count": null,
      "outputs": [
        {
          "output_type": "stream",
          "name": "stdout",
          "text": [
            "[[  0   0   0   0   0   0   0   0   0   0   0   0   0   0   0   0   0   0\n",
            "    0   0   0   0   0   0   0   0   0   0]\n",
            " [  0   0   0   0   0   0   0   0   0   0   0   0   0   0   0   0   0   0\n",
            "    0   0   0   0   0   0   0   0   0   0]\n",
            " [  0   0   0   0   0   0   0   0   0   0   0   0   0   0   0   0   0   0\n",
            "    0   0   0   0   0   0   0   0   0   0]\n",
            " [  0   0   0   0   0   0   0   0   0   0   0   0   0   0   0   0   0   0\n",
            "    0   0   0   0   0   0   0   0   0   0]\n",
            " [  0   0   0   0   0   0   0   0   0   0   0   0   0   0   0   0   0   0\n",
            "    0   0   0   0   0   0   0   0   0   0]\n",
            " [  0   0   0   0   0   0   0   0   0   0   0   0   3  18  18  18 126 136\n",
            "  175  26 166 255 247 127   0   0   0   0]\n",
            " [  0   0   0   0   0   0   0   0  30  36  94 154 170 253 253 253 253 253\n",
            "  225 172 253 242 195  64   0   0   0   0]\n",
            " [  0   0   0   0   0   0   0  49 238 253 253 253 253 253 253 253 253 251\n",
            "   93  82  82  56  39   0   0   0   0   0]\n",
            " [  0   0   0   0   0   0   0  18 219 253 253 253 253 253 198 182 247 241\n",
            "    0   0   0   0   0   0   0   0   0   0]\n",
            " [  0   0   0   0   0   0   0   0  80 156 107 253 253 205  11   0  43 154\n",
            "    0   0   0   0   0   0   0   0   0   0]\n",
            " [  0   0   0   0   0   0   0   0   0  14   1 154 253  90   0   0   0   0\n",
            "    0   0   0   0   0   0   0   0   0   0]\n",
            " [  0   0   0   0   0   0   0   0   0   0   0 139 253 190   2   0   0   0\n",
            "    0   0   0   0   0   0   0   0   0   0]\n",
            " [  0   0   0   0   0   0   0   0   0   0   0  11 190 253  70   0   0   0\n",
            "    0   0   0   0   0   0   0   0   0   0]\n",
            " [  0   0   0   0   0   0   0   0   0   0   0   0  35 241 225 160 108   1\n",
            "    0   0   0   0   0   0   0   0   0   0]\n",
            " [  0   0   0   0   0   0   0   0   0   0   0   0   0  81 240 253 253 119\n",
            "   25   0   0   0   0   0   0   0   0   0]\n",
            " [  0   0   0   0   0   0   0   0   0   0   0   0   0   0  45 186 253 253\n",
            "  150  27   0   0   0   0   0   0   0   0]\n",
            " [  0   0   0   0   0   0   0   0   0   0   0   0   0   0   0  16  93 252\n",
            "  253 187   0   0   0   0   0   0   0   0]\n",
            " [  0   0   0   0   0   0   0   0   0   0   0   0   0   0   0   0   0 249\n",
            "  253 249  64   0   0   0   0   0   0   0]\n",
            " [  0   0   0   0   0   0   0   0   0   0   0   0   0   0  46 130 183 253\n",
            "  253 207   2   0   0   0   0   0   0   0]\n",
            " [  0   0   0   0   0   0   0   0   0   0   0   0  39 148 229 253 253 253\n",
            "  250 182   0   0   0   0   0   0   0   0]\n",
            " [  0   0   0   0   0   0   0   0   0   0  24 114 221 253 253 253 253 201\n",
            "   78   0   0   0   0   0   0   0   0   0]\n",
            " [  0   0   0   0   0   0   0   0  23  66 213 253 253 253 253 198  81   2\n",
            "    0   0   0   0   0   0   0   0   0   0]\n",
            " [  0   0   0   0   0   0  18 171 219 253 253 253 253 195  80   9   0   0\n",
            "    0   0   0   0   0   0   0   0   0   0]\n",
            " [  0   0   0   0  55 172 226 253 253 253 253 244 133  11   0   0   0   0\n",
            "    0   0   0   0   0   0   0   0   0   0]\n",
            " [  0   0   0   0 136 253 253 253 212 135 132  16   0   0   0   0   0   0\n",
            "    0   0   0   0   0   0   0   0   0   0]\n",
            " [  0   0   0   0   0   0   0   0   0   0   0   0   0   0   0   0   0   0\n",
            "    0   0   0   0   0   0   0   0   0   0]\n",
            " [  0   0   0   0   0   0   0   0   0   0   0   0   0   0   0   0   0   0\n",
            "    0   0   0   0   0   0   0   0   0   0]\n",
            " [  0   0   0   0   0   0   0   0   0   0   0   0   0   0   0   0   0   0\n",
            "    0   0   0   0   0   0   0   0   0   0]]\n"
          ]
        }
      ]
    },
    {
      "cell_type": "markdown",
      "metadata": {
        "id": "tsB3wL-iijbT"
      },
      "source": [
        "Compile your model and look at its structure."
      ]
    },
    {
      "cell_type": "code",
      "metadata": {
        "id": "py6Kn1bu40g3"
      },
      "source": [
        "training_images = training_images / 255.0\n",
        "validation_images = validation_images / 255.0"
      ],
      "execution_count": null,
      "outputs": []
    },
    {
      "cell_type": "code",
      "metadata": {
        "id": "6LwRtn1--JUV"
      },
      "source": [
        "model = tf.keras.Sequential([\n",
        "                                    tf.keras.layers.Flatten(input_shape=(28,28)),\n",
        "                                    tf.keras.layers.Dense(500, activation='relu'),\n",
        "                                    tf.keras.layers.Dense(300, activation='relu'),\n",
        "                                    tf.keras.layers.Dense(10, activation= 'softmax')\n",
        "                                    ])"
      ],
      "execution_count": null,
      "outputs": []
    },
    {
      "cell_type": "code",
      "metadata": {
        "colab": {
          "base_uri": "https://localhost:8080/"
        },
        "id": "4D9-gEiUzhvX",
        "outputId": "0e1f3cc8-a17e-4662-f1ab-2d00062e78c4"
      },
      "source": [
        "model.compile(optimizer='adam',\n",
        "              loss=tf.keras.losses.SparseCategoricalCrossentropy(),\n",
        "              metrics=['accuracy'])\n",
        "\n",
        "model.summary()"
      ],
      "execution_count": null,
      "outputs": [
        {
          "output_type": "stream",
          "name": "stdout",
          "text": [
            "Model: \"sequential\"\n",
            "_________________________________________________________________\n",
            "Layer (type)                 Output Shape              Param #   \n",
            "=================================================================\n",
            "flatten (Flatten)            (None, 784)               0         \n",
            "_________________________________________________________________\n",
            "dense (Dense)                (None, 500)               392500    \n",
            "_________________________________________________________________\n",
            "dense_1 (Dense)              (None, 300)               150300    \n",
            "_________________________________________________________________\n",
            "dense_2 (Dense)              (None, 10)                3010      \n",
            "=================================================================\n",
            "Total params: 545,810\n",
            "Trainable params: 545,810\n",
            "Non-trainable params: 0\n",
            "_________________________________________________________________\n"
          ]
        }
      ]
    },
    {
      "cell_type": "markdown",
      "metadata": {
        "id": "cxobgTCvij0T"
      },
      "source": [
        "Train your model."
      ]
    },
    {
      "cell_type": "code",
      "metadata": {
        "colab": {
          "base_uri": "https://localhost:8080/"
        },
        "id": "elk760Ogzxhr",
        "outputId": "26ee7e95-583f-41f3-d015-9c3d3d7fe7ac"
      },
      "source": [
        "history = model.fit(training_images,\n",
        "                    training_labels,\n",
        "                    batch_size=100,\n",
        "                    epochs=10,\n",
        "                    validation_data = (validation_images, validation_labels)\n",
        "                    )"
      ],
      "execution_count": null,
      "outputs": [
        {
          "output_type": "stream",
          "name": "stdout",
          "text": [
            "Epoch 1/10\n",
            "600/600 [==============================] - 8s 13ms/step - loss: 0.7938 - accuracy: 0.7638 - val_loss: 0.3900 - val_accuracy: 0.8840\n",
            "Epoch 2/10\n",
            "600/600 [==============================] - 8s 13ms/step - loss: 0.3494 - accuracy: 0.8985 - val_loss: 0.2991 - val_accuracy: 0.9125\n",
            "Epoch 3/10\n",
            "600/600 [==============================] - 8s 13ms/step - loss: 0.2882 - accuracy: 0.9158 - val_loss: 0.2700 - val_accuracy: 0.9211\n",
            "Epoch 4/10\n",
            "600/600 [==============================] - 8s 13ms/step - loss: 0.2443 - accuracy: 0.9290 - val_loss: 0.2319 - val_accuracy: 0.9323\n",
            "Epoch 5/10\n",
            "600/600 [==============================] - 8s 13ms/step - loss: 0.2091 - accuracy: 0.9385 - val_loss: 0.1925 - val_accuracy: 0.9441\n",
            "Epoch 6/10\n",
            "600/600 [==============================] - 8s 13ms/step - loss: 0.1783 - accuracy: 0.9477 - val_loss: 0.1688 - val_accuracy: 0.9497\n",
            "Epoch 7/10\n",
            "600/600 [==============================] - 8s 13ms/step - loss: 0.1564 - accuracy: 0.9539 - val_loss: 0.1522 - val_accuracy: 0.9534\n",
            "Epoch 8/10\n",
            "600/600 [==============================] - 8s 13ms/step - loss: 0.1359 - accuracy: 0.9600 - val_loss: 0.1359 - val_accuracy: 0.9584\n",
            "Epoch 9/10\n",
            "600/600 [==============================] - 8s 13ms/step - loss: 0.1200 - accuracy: 0.9647 - val_loss: 0.1199 - val_accuracy: 0.9631\n",
            "Epoch 10/10\n",
            "600/600 [==============================] - 8s 13ms/step - loss: 0.1072 - accuracy: 0.9679 - val_loss: 0.1082 - val_accuracy: 0.9665\n"
          ]
        }
      ]
    },
    {
      "cell_type": "code",
      "metadata": {
        "colab": {
          "base_uri": "https://localhost:8080/",
          "height": 513
        },
        "id": "5qhSd7ol0QG4",
        "outputId": "a78163c8-591a-447a-e08b-7fc3680712e9"
      },
      "source": [
        "plot_accuracy_and_loss(history)"
      ],
      "execution_count": null,
      "outputs": [
        {
          "output_type": "display_data",
          "data": {
            "image/png": "[encoded data removed]",
            "text/plain": [
              "<Figure size 576x576 with 2 Axes>"
            ]
          },
          "metadata": {
            "needs_background": "light"
          }
        }
      ]
    },
    {
      "cell_type": "markdown",
      "metadata": {
        "id": "ARfQ8ReUikNr"
      },
      "source": [
        "Test your model."
      ]
    },
    {
      "cell_type": "code",
      "metadata": {
        "colab": {
          "base_uri": "https://localhost:8080/",
          "height": 318
        },
        "id": "0bYX0sOn0cNE",
        "outputId": "e00ccee2-a59f-4989-e18f-cdd5c73bcdd7"
      },
      "source": [
        "predict_image('http://dojo.soy/num2')"
      ],
      "execution_count": null,
      "outputs": [
        {
          "output_type": "stream",
          "name": "stdout",
          "text": [
            "Downloading data from http://dojo.soy/num2\n",
            "16384/4602 [==========================================================================================================] - 0s 0us/step\n",
            "Your model predicts this number is 2\n"
          ]
        },
        {
          "output_type": "display_data",
          "data": {
            "image/png": "[encoded data removed]",
            "text/plain": [
              "<Figure size 432x288 with 1 Axes>"
            ]
          },
          "metadata": {
            "needs_background": "light"
          }
        }
      ]
    }
  ]
}